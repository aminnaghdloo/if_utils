{
 "cells": [
  {
   "cell_type": "code",
   "execution_count": null,
   "id": "7336bbd9-dd44-4ba0-b728-d362bec5f684",
   "metadata": {},
   "outputs": [],
   "source": [
    "from classes import Frame\n",
    "import pandas as pd\n",
    "import numpy as np\n",
    "import argparse\n",
    "import utils\n",
    "import h5py\n",
    "import os"
   ]
  }
 ],
 "metadata": {
  "kernelspec": {
   "display_name": "Python 3",
   "language": "python",
   "name": "python3"
  },
  "language_info": {
   "codemirror_mode": {
    "name": "ipython",
    "version": 3
   },
   "file_extension": ".py",
   "mimetype": "text/x-python",
   "name": "python",
   "nbconvert_exporter": "python",
   "pygments_lexer": "ipython3",
   "version": "3.9.7"
  }
 },
 "nbformat": 4,
 "nbformat_minor": 5
}
